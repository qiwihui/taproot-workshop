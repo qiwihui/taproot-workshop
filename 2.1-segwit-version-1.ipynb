{
 "cells": [
  {
   "cell_type": "code",
   "execution_count": 1,
   "metadata": {},
   "outputs": [
    {
     "name": "stdout",
     "output_type": "stream",
     "text": [
      "Source directory configured as /Users/qiwihui/Development/smart/bitcoin/bitcoin\n"
     ]
    }
   ],
   "source": [
    "import util\n",
    "from test_framework.address import program_to_witness\n",
    "from test_framework.key import generate_key_pair, generate_bip340_key_pair, generate_schnorr_nonce\n",
    "from test_framework.messages import CTxInWitness, sha256\n",
    "from test_framework.musig import aggregate_musig_signatures, aggregate_schnorr_nonces, generate_musig_key, sign_musig\n",
    "from test_framework.script import CScript, CScriptOp, hash160, OP_0, OP_2, OP_CHECKMULTISIG, SegwitV0SignatureHash, SIGHASH_ALL, SIGHASH_ALL_TAPROOT, TaprootSignatureHash"
   ]
  },
  {
   "cell_type": "markdown",
   "metadata": {},
   "source": [
    "# 2.1 Taproot Outputs\n",
    "\n",
    "* Part 1 (Example): Sending to and spending from a single-signer segwit v1 output\n",
    "* Part 2 (Case Study): Migrating from a 2-of-2 P2WSH output to a MuSig segwit v1 output\n",
    "\n",
    "In this chapter, we introduce segwit v1 outputs, which are defined in [BIP341](https://github.com/bitcoin/bips/blob/master/bip-0341.mediawiki). Segwit v1 outputs can be spent in two ways:\n",
    "\n",
    "* **Key path** spending, which treats the witness program as a public key, and permits spending using a signature from that public key.\n",
    "* **Script path** spending, which allows a pre-committed script to be used to spend the output. Script path spending will be fully described in chapters 2.2, 2.3 and 2.4.\n",
    "\n",
    "By using the MuSig pubkey and signature aggregation protocol described in chapter 1.2, key path spending can be used to encumber an output to an n-of-n multisig policy in a way that is indistinguishable from a single-key output and spend.\n",
    "\n",
    "Part 1 of this chapter is an example of sending funds to a segwit v1 address using the Bitcoin Core wallet, and then manually constructing a transaction that spends that output using the new BIP341 key path spending rules.\n",
    "\n",
    "Part 2 of this chapter is a case study, showing how using a segwit v1 output with MuSig can provide cost and privacy benefits over using a segwit P2WSH output."
   ]
  },
  {
   "cell_type": "markdown",
   "metadata": {},
   "source": [
    "## Part 1 (Example): Single-signer segwit v1 output\n",
    "\n",
    "Segwit v1 follows the same output script pattern as segwit v0:\n",
    "\n",
    "* Segwit output: **`[1B Version]` `[segwit program]`**\n",
    "* Segwit v0 output: **`[00]` `[20-Byte public key digest]`** (P2WPKH) or **`[00]` `[32-Byte script digest]`** (P2WSH)\n",
    "* Segwit v1 output: **`[01]` `[32-Byte public key]`**"
   ]
  },
  {
   "cell_type": "markdown",
   "metadata": {},
   "source": [
    "### Spending a segwit v1 output with the key path\n",
    "\n",
    "Unlike segwit v0 outputs, v1 outputs look the same for script or key paths(unlike v0 which separates into P2WPKH and P2WSH). In this chapter we will focus on spending the key path.\n",
    "\n",
    "![test](images/segwit_version1_0.jpg)\n",
    "\n",
    "The output can be spent along the **key path** by providing a valid signature for the pubkey in the output's scriptPubKey. The spending witness is simply **`[sig]`**.\n",
    "\n",
    "The output can be spent along the **script path** if public key was tweaked with a valid taproot. See chapters 2.2 and 2.3 for further details."
   ]
  },
  {
   "cell_type": "markdown",
   "metadata": {},
   "source": [
    "#### 2.1.1 Example: Constructing a segwit v1 output\n",
    "\n",
    "In this example, we construct segwit v1 output for spending along the key path. We generate a key pair, encode the public key using the BIP340 and BIP341 pubkey encoding rules, and then encode the witness version and witness program to a bech32m address."
   ]
  },
  {
   "cell_type": "code",
   "execution_count": 3,
   "metadata": {},
   "outputs": [
    {
     "name": "stdout",
     "output_type": "stream",
     "text": [
      "Pubkey is cb4eff06d36ee7ec17b9f008c0cc0137e0062df7d384bd9fd4dabacfd2e4cb87\n",
      "\n",
      "Witness program is cb4eff06d36ee7ec17b9f008c0cc0137e0062df7d384bd9fd4dabacfd2e4cb87\n",
      "\n",
      "bech32m address is bcrt1ped807pkndmn7c9ae7qyvpnqpxlsqvt0h6wztm875m2avl5hyewrsuqtq4w\n"
     ]
    }
   ],
   "source": [
    "# Key pair generation\n",
    "privkey, pubkey = generate_bip340_key_pair()\n",
    "print(\"Pubkey is {}\\n\".format(pubkey.get_bytes().hex()))\n",
    "\n",
    "# Create witness program ([32B x-coordinate])\n",
    "program = pubkey.get_bytes()\n",
    "print(\"Witness program is {}\\n\".format(program.hex()))\n",
    "\n",
    "# Create (regtest) bech32m address\n",
    "version = 0x01\n",
    "address = program_to_witness(version, program)\n",
    "print(\"bech32m address is {}\".format(address))"
   ]
  },
  {
   "cell_type": "markdown",
   "metadata": {},
   "source": [
    "### Sending funds from the Bitcoin Core wallet\n",
    "\n",
    "Next, we send funds to the segwit v1 address that we just generated. We'll create send the funds from a Bitcoin Core wallet, which is able to send outputs to segwit v1 addresses."
   ]
  },
  {
   "cell_type": "markdown",
   "metadata": {},
   "source": [
    "#### Example 2.1.2: Start Bitcoin Core node and send coins to the taproot address\n",
    "\n",
    "Only run setup once, or after a clean shutdown."
   ]
  },
  {
   "cell_type": "code",
   "execution_count": 4,
   "metadata": {},
   "outputs": [
    {
     "name": "stdout",
     "output_type": "stream",
     "text": [
      "2024-06-01T14:54:11.869000Z TestFramework./var/folders/b_/p0cr2yhn6kn1kc2rrcr1564m0000gn/T/bitcoin_func_test_qh7dtfcn (INFO): Initializing test directory /var/folders/b_/p0cr2yhn6kn1kc2rrcr1564m0000gn/T/bitcoin_func_test_qh7dtfcn\n",
      "\n",
      "Client version is /Satoshi:26.99.0(testnode0)/\n",
      "\n",
      "Balance: 50.00000000\n",
      "\n",
      "Transaction 89242fe80974cc5744d4a7006b6c3b67cebeecb99f5422c4a5140813d804f6db, output 0\n",
      "sent to bcrt1ped807pkndmn7c9ae7qyvpnqpxlsqvt0h6wztm875m2avl5hyewrsuqtq4w\n",
      "\n"
     ]
    }
   ],
   "source": [
    "# Start node\n",
    "test = util.TestWrapper()\n",
    "test.setup()\n",
    "node = test.nodes[0]\n",
    "\n",
    "# Generate coins and create an output\n",
    "tx = node.generate_and_send_coins(address)\n",
    "print(\"Transaction {}, output 0\\nsent to {}\\n\".format(tx.hash, address))"
   ]
  },
  {
   "cell_type": "markdown",
   "metadata": {},
   "source": [
    "### Constructing a transaction to spend the segwit v1 output\n",
    "\n",
    "We are now going to manually contruct, sign and broadcast a transaction which spends the segwit v1 output.\n",
    "\n",
    "To do that we create a `CTransaction` object and populate the data members:\n",
    "\n",
    " * `nVersion`\n",
    " * `nLocktime`  \n",
    " * `tx_vin` (list of `CTxIn` objects)\n",
    " * `tx_vout` (list of `CTxOut` objects)\n",
    " * `tx.wit.vtxinwit` (list of `CTxInWitness` objects)"
   ]
  },
  {
   "cell_type": "markdown",
   "metadata": {},
   "source": [
    "#### Example 2.1.3: Construct `CTransaction` and populate fields\n",
    "\n",
    "We use the `create_spending_transaction(node, txid)` convenience function."
   ]
  },
  {
   "cell_type": "code",
   "execution_count": 5,
   "metadata": {},
   "outputs": [
    {
     "name": "stdout",
     "output_type": "stream",
     "text": [
      "Spending transaction:\n",
      "CTransaction(nVersion=1 vin=[CTxIn(prevout=COutPoint(hash=89242fe80974cc5744d4a7006b6c3b67cebeecb99f5422c4a5140813d804f6db n=0) scriptSig= nSequence=0)] vout=[CTxOut(nValue=0.50000000 scriptPubKey=00143538db4da49e86983d4beeeb6e1ee53ac8e329d3)] wit=CTxWitness() nLockTime=0)\n"
     ]
    }
   ],
   "source": [
    "# Create a spending transaction\n",
    "spending_tx = test.create_spending_transaction(tx.hash)\n",
    "print(\"Spending transaction:\\n{}\".format(spending_tx))"
   ]
  },
  {
   "cell_type": "markdown",
   "metadata": {},
   "source": [
    "#### Example 2.1.4: Sign the transaction with a schnorr signature\n",
    "\n",
    "BIP341 defines the following sighash flags:\n",
    "* Legacy sighash flags:\n",
    "  * `0x01` - **SIGHASH_ALL**\n",
    "  * `0x02` - **SIGHASH_NONE**\n",
    "  * `0x03` - **SIGHASH_SINGLE**\n",
    "  * `0x81` - **SIGHASH_ALL | SIGHASH_ANYONECANPAY**\n",
    "  * `0x82` - **SIGHASH_NONE | SIGHASH_ANYONECANPAY**\n",
    "  * `0x83` - **SIGHASH_SINGLE | SIGHASH_ANYONECANPAY**\n",
    "* New sighash flag:\n",
    "  * `0x00` - **SIGHASH_ALL_TAPROOT** same semantics `0x01` **SIGHASH_ALL**\n",
    "\n",
    "Append the sighash flag to the signature `[R_x, s]` with the sighash byte if not `0x00`."
   ]
  },
  {
   "cell_type": "code",
   "execution_count": 6,
   "metadata": {},
   "outputs": [
    {
     "name": "stdout",
     "output_type": "stream",
     "text": [
      "Signature: 2c4da48f6f881e262052ef25c911f948ca3497048c774f4f81a408683ef19ec55f6f45ed8b7c2b85e0ee727620a7408b74cd4c673760261a13fdf32a6897886e\n"
     ]
    }
   ],
   "source": [
    "# Generate the taproot signature hash for signing\n",
    "# SIGHASH_ALL_TAPROOT is 0x00\n",
    "sighash = TaprootSignatureHash(spending_tx, [tx.vout[0]], SIGHASH_ALL_TAPROOT, input_index=0)\n",
    " \n",
    "# All schnorr sighashes except SIGHASH_ALL_TAPROOT require\n",
    "# the hash_type appended to the end of signature\n",
    "sig = privkey.sign_schnorr(sighash)\n",
    "\n",
    "print(\"Signature: {}\".format(sig.hex()))"
   ]
  },
  {
   "cell_type": "markdown",
   "metadata": {},
   "source": [
    "#### Example 2.1.5: Add the witness and test acceptance of the transaction"
   ]
  },
  {
   "cell_type": "code",
   "execution_count": 7,
   "metadata": {},
   "outputs": [
    {
     "name": "stdout",
     "output_type": "stream",
     "text": [
      "Spending transaction:\n",
      "CTransaction(nVersion=1 vin=[CTxIn(prevout=COutPoint(hash=89242fe80974cc5744d4a7006b6c3b67cebeecb99f5422c4a5140813d804f6db n=0) scriptSig= nSequence=0)] vout=[CTxOut(nValue=0.50000000 scriptPubKey=00143538db4da49e86983d4beeeb6e1ee53ac8e329d3)] wit=CTxWitness(CScriptWitness(2c4da48f6f881e262052ef25c911f948ca3497048c774f4f81a408683ef19ec55f6f45ed8b7c2b85e0ee727620a7408b74cd4c673760261a13fdf32a6897886e)) nLockTime=0)\n",
      "\n",
      "{'txid': 'ca2e622c496e0840d81d56e0d803fa9d199c8218d30277de54b8a1b77a654ff1', 'wtxid': '519a744a6e482ae37732eeaefe8462d2590a3aa3104e28df1938fcf0369363bf', 'allowed': True, 'vsize': 99, 'fees': {'base': Decimal('0.50000000'), 'effective-feerate': Decimal('5.05050505'), 'effective-includes': ['519a744a6e482ae37732eeaefe8462d2590a3aa3104e28df1938fcf0369363bf']}}\n",
      "Success!\n"
     ]
    }
   ],
   "source": [
    "# Construct transaction witness\n",
    "spending_tx.wit.vtxinwit.append(CTxInWitness([sig]))\n",
    "\n",
    "print(\"Spending transaction:\\n{}\\n\".format(spending_tx))\n",
    " \n",
    "# Test mempool acceptance\n",
    "node.test_transaction(spending_tx)\n",
    "print(\"Success!\")"
   ]
  },
  {
   "cell_type": "markdown",
   "metadata": {},
   "source": [
    "#### Example 2.1.6: Shutdown the TestWrapper (and all bitcoind instances)"
   ]
  },
  {
   "cell_type": "code",
   "execution_count": 8,
   "metadata": {},
   "outputs": [
    {
     "name": "stdout",
     "output_type": "stream",
     "text": [
      "2024-06-01T14:59:16.042000Z TestFramework./var/folders/b_/p0cr2yhn6kn1kc2rrcr1564m0000gn/T/bitcoin_func_test_qh7dtfcn (INFO): Stopping nodes\n",
      "2024-06-01T14:59:16.206000Z TestFramework./var/folders/b_/p0cr2yhn6kn1kc2rrcr1564m0000gn/T/bitcoin_func_test_qh7dtfcn (INFO): Cleaning up /var/folders/b_/p0cr2yhn6kn1kc2rrcr1564m0000gn/T/bitcoin_func_test_qh7dtfcn on exit\n",
      "2024-06-01T14:59:16.206000Z TestFramework./var/folders/b_/p0cr2yhn6kn1kc2rrcr1564m0000gn/T/bitcoin_func_test_qh7dtfcn (INFO): Tests successful\n"
     ]
    }
   ],
   "source": [
    "test.shutdown()"
   ]
  },
  {
   "cell_type": "markdown",
   "metadata": {},
   "source": [
    "## Part 2 (Case Study): 2-of-2 multisig\n",
    "\n",
    "Alice stores her bitcoin using a combination of an offline hardware wallet and online wallet. She currently uses P2WSH 2-of-2 multisig, which has some drawbacks:\n",
    "\n",
    "- spending a P2WSH multisig output is more expensive than spending a single signature P2WPKH output, since multiple pubkeys and signatures need to be included in the witness\n",
    "- spending from the P2WSH output reveals that the coins were encumbered using a multisig setup. Anyone who transacted with Alice (paid or was paid by) can see this easily, and even entities who do not transact directly with Alice can discover this with some chain analysis. Revealing her wallet setup may be bad for Alice's privacy and safety.\n",
    "\n",
    "In this chapter, we'll show how Alice can move to using a MuSig aggregated public key, eventually saving her transaction fees and protecting her privacy."
   ]
  },
  {
   "cell_type": "markdown",
   "metadata": {},
   "source": [
    "### Spending a segwit v0 P2SH 2-of-2 multisig\n",
    "\n",
    "We'll first show Alice's current setup: P2WSH 2-of-2 multisig."
   ]
  },
  {
   "cell_type": "markdown",
   "metadata": {},
   "source": [
    "#### Example 2.1.7: Construct a 2-of-2 P2WSH output\n",
    "\n",
    "In this example, we'll construct a 2-of-2 P2WSH output and address"
   ]
  },
  {
   "cell_type": "code",
   "execution_count": 9,
   "metadata": {},
   "outputs": [
    {
     "name": "stdout",
     "output_type": "stream",
     "text": [
      "bech32 address is bcrt1qhnwkyuxlx2gkwg2juev64zvj4689qd0au88x94vh0tdt0rt438lq6x62x4\n"
     ]
    }
   ],
   "source": [
    "# Generate individual key pairs\n",
    "privkey1, pubkey1 = generate_key_pair()\n",
    "privkey2, pubkey2 = generate_key_pair()\n",
    "\n",
    "# Create the spending script\n",
    "multisig_script = CScript([CScriptOp(OP_2), pubkey1.get_bytes(bip340=False), pubkey2.get_bytes(bip340=False), CScriptOp(OP_2), CScriptOp(OP_CHECKMULTISIG)])\n",
    "\n",
    "# Hash the spending script\n",
    "script_hash = sha256(multisig_script)\n",
    "\n",
    "# Generate the address\n",
    "version = 0\n",
    "address = program_to_witness(version, script_hash)\n",
    "print(\"bech32 address is {}\".format(address))"
   ]
  },
  {
   "cell_type": "markdown",
   "metadata": {},
   "source": [
    "#### Example 2.1.8: Start a Bitcoind node and send funds to the segwit v0 address\n",
    "\n",
    "We'll use the `generate_and_send_coins()` function."
   ]
  },
  {
   "cell_type": "code",
   "execution_count": 10,
   "metadata": {},
   "outputs": [
    {
     "name": "stdout",
     "output_type": "stream",
     "text": [
      "2024-06-01T15:02:13.932000Z TestFramework./var/folders/b_/p0cr2yhn6kn1kc2rrcr1564m0000gn/T/bitcoin_func_test_a75pkrww (INFO): Initializing test directory /var/folders/b_/p0cr2yhn6kn1kc2rrcr1564m0000gn/T/bitcoin_func_test_a75pkrww\n",
      "\n",
      "Client version is /Satoshi:26.99.0(testnode0)/\n",
      "\n",
      "Balance: 50.00000000\n",
      "\n",
      "Transaction 5eb757e91ce6d9bfe50b6e2dd8b91d69f5c6c2a5081c6ce192ccdd308d801884, output 0\n",
      "sent to bcrt1qhnwkyuxlx2gkwg2juev64zvj4689qd0au88x94vh0tdt0rt438lq6x62x4\n",
      "\n"
     ]
    }
   ],
   "source": [
    "test = util.TestWrapper()\n",
    "test.setup()\n",
    "node = test.nodes[0]\n",
    "\n",
    "# Generate coins and create an output\n",
    "tx = node.generate_and_send_coins(address)\n",
    "print(\"Transaction {}, output 0\\nsent to {}\\n\".format(tx.hash, address))"
   ]
  },
  {
   "cell_type": "markdown",
   "metadata": {},
   "source": [
    "#### Example 2.1.9 : Construct CTransaction, sign and check validity\n",
    "\n",
    "In this example we:\n",
    "- create a `CTransaction` object\n",
    "- create signatures for both public keys\n",
    "- create a valid witness using those signatures and add it to the transaction\n",
    "- test transaction validity"
   ]
  },
  {
   "cell_type": "code",
   "execution_count": 11,
   "metadata": {},
   "outputs": [
    {
     "name": "stdout",
     "output_type": "stream",
     "text": [
      "Signatures:\n",
      "- 3044022045ab423c41e72bc6751c36ac3dbe08e2c3ab5fd6fc235d7a4f6abe804f7ce84902203314ccd920147bce1a0e08b7734882d26c1c0f5ba766e84d80cbd83971b8e2f301,\n",
      "- 304502210087b3256d5b825efeafca775db836b8c0b76d7dc472050fbe21fefeaa61fe4fc102207f3be080a5763f68ff71b0c0e4ff61a8e1746327a4704c4fb41397db1b96151201\n",
      "\n",
      "Spending transaction:\n",
      "CTransaction(nVersion=1 vin=[CTxIn(prevout=COutPoint(hash=5eb757e91ce6d9bfe50b6e2dd8b91d69f5c6c2a5081c6ce192ccdd308d801884 n=0) scriptSig= nSequence=0)] vout=[CTxOut(nValue=0.50000000 scriptPubKey=00149ef321eab86d0df8c748f516322d2897f01f6788)] wit=CTxWitness(CScriptWitness(,3044022045ab423c41e72bc6751c36ac3dbe08e2c3ab5fd6fc235d7a4f6abe804f7ce84902203314ccd920147bce1a0e08b7734882d26c1c0f5ba766e84d80cbd83971b8e2f301,304502210087b3256d5b825efeafca775db836b8c0b76d7dc472050fbe21fefeaa61fe4fc102207f3be080a5763f68ff71b0c0e4ff61a8e1746327a4704c4fb41397db1b96151201,5221027a37adfc064dfeaa1de7911990454e1e5cfa5c421369c4f79809cd49878fe1d221032e89edb0f6d2ad233ef5cd57e2fe91ad6e23ee4c73eb9d86be96b1a7faa81e9452ae)) nLockTime=0)\n",
      "\n",
      "Transaction weight: 549\n",
      "\n",
      "{'txid': 'ce558d1bacf68e7058efe07c1b6c75f39624080f938d83b33c52711290bb2ed3', 'wtxid': '357a1aa94d4236604fea3571090d5fcc588d8d455337fda669932d8a078c8d4e', 'allowed': True, 'vsize': 138, 'fees': {'base': Decimal('0.50000000'), 'effective-feerate': Decimal('3.62318840'), 'effective-includes': ['357a1aa94d4236604fea3571090d5fcc588d8d455337fda669932d8a078c8d4e']}}\n",
      "Success!\n"
     ]
    }
   ],
   "source": [
    "# Create a spending transaction\n",
    "spending_tx = test.create_spending_transaction(tx.hash)\n",
    "\n",
    "# Generate the segwit v0 signature hash for signing\n",
    "sighash = SegwitV0SignatureHash(script=multisig_script,\n",
    "                                txTo=spending_tx,\n",
    "                                inIdx=0,\n",
    "                                hashtype=SIGHASH_ALL,\n",
    "                                amount=100_000_000)\n",
    "\n",
    "# Sign using ECDSA and append the SIGHASH byte\n",
    "sig1 = privkey1.sign_ecdsa(sighash) + chr(SIGHASH_ALL).encode('latin-1')\n",
    "sig2 = privkey2.sign_ecdsa(sighash) + chr(SIGHASH_ALL).encode('latin-1')\n",
    "\n",
    "print(\"Signatures:\\n- {},\\n- {}\\n\".format(sig1.hex(), sig2.hex()))\n",
    "\n",
    "# Construct witness and add it to the script.\n",
    "# For a multisig P2WSH input, the script witness is the signatures and the scipt\n",
    "witness_elements = [b'', sig1, sig2, multisig_script]\n",
    "spending_tx.wit.vtxinwit.append(CTxInWitness(witness_elements))\n",
    "\n",
    "print(\"Spending transaction:\\n{}\\n\".format(spending_tx))\n",
    "\n",
    "print(\"Transaction weight: {}\\n\".format(node.decoderawtransaction(spending_tx.serialize().hex())['weight']))\n",
    "\n",
    "# Test mempool acceptance\n",
    "assert node.test_transaction(spending_tx)\n",
    "print(\"Success!\")"
   ]
  },
  {
   "cell_type": "markdown",
   "metadata": {},
   "source": [
    "#### Example 2.1.10: Shutdown the TestWrapper (and all bitcoind instances)"
   ]
  },
  {
   "cell_type": "code",
   "execution_count": 12,
   "metadata": {},
   "outputs": [
    {
     "name": "stdout",
     "output_type": "stream",
     "text": [
      "2024-06-01T15:04:58.339000Z TestFramework./var/folders/b_/p0cr2yhn6kn1kc2rrcr1564m0000gn/T/bitcoin_func_test_a75pkrww (INFO): Stopping nodes\n",
      "2024-06-01T15:04:58.506000Z TestFramework./var/folders/b_/p0cr2yhn6kn1kc2rrcr1564m0000gn/T/bitcoin_func_test_a75pkrww (INFO): Cleaning up /var/folders/b_/p0cr2yhn6kn1kc2rrcr1564m0000gn/T/bitcoin_func_test_a75pkrww on exit\n",
      "2024-06-01T15:04:58.507000Z TestFramework./var/folders/b_/p0cr2yhn6kn1kc2rrcr1564m0000gn/T/bitcoin_func_test_a75pkrww (INFO): Tests successful\n"
     ]
    }
   ],
   "source": [
    "test.shutdown()"
   ]
  },
  {
   "cell_type": "markdown",
   "metadata": {},
   "source": [
    "### Spending a segwit v1 output with a MuSig public key\n",
    "\n",
    "Now, we'll use Alice's same keys to create a MuSig aggregate key, and spend a segwit v1 output using that aggregate key."
   ]
  },
  {
   "cell_type": "markdown",
   "metadata": {},
   "source": [
    "#### 2.1.11 _Programming Exercise:_ Generate segwit v1 addresses for a 2-of-2 MuSig aggregate pubkey\n",
    "\n",
    "In this exercise, we create a 2-of-2 aggregate MuSig public key"
   ]
  },
  {
   "cell_type": "code",
   "execution_count": 35,
   "metadata": {},
   "outputs": [
    {
     "name": "stdout",
     "output_type": "stream",
     "text": [
      "2-of-2 musig:  bcrt1pcwzg56s49jmh9ztfy3xky33xuxpdadaydmf53aye9l88m9ya4dgs5fspq8\n"
     ]
    }
   ],
   "source": [
    "# Generate a 2-of-2 aggregate MuSig key using the same pubkeys as before\n",
    "# Method: generate_musig_key(ECPubKey_list)\n",
    "c_map, agg_pubkey =  generate_musig_key([pubkey1, pubkey2]) # TODO: implement\n",
    "\n",
    "# Multiply individual keys with challenges\n",
    "privkey1_c = c_map[pubkey1] * privkey1 # TODO: implement\n",
    "privkey2_c = c_map[pubkey2] * privkey2 # TODO: implement\n",
    "pubkey1_c = c_map[pubkey1] * pubkey1 # TODO: implement\n",
    "pubkey2_c = c_map[pubkey2] * pubkey2 # TODO: implement\n",
    "\n",
    "# Negate the private and public keys if needed\n",
    "if agg_pubkey.get_y() % 2 != 0: # TODO: implement\n",
    "    # TODO: implement\n",
    "    privkey1_c.negate()\n",
    "    privkey2_c.negate()\n",
    "    pubkey1_c.negate()\n",
    "    pubkey2_c.negate()\n",
    "    agg_pubkey.negate()\n",
    "    \n",
    "# Create a segwit v1 address for the MuSig aggregate pubkey\n",
    "# Method: address = program_to_witness(version_int, program_bytes)\n",
    "program_musig = agg_pubkey.get_bytes() # TODO: implement\n",
    "address_musig = program_to_witness(0x01, program_musig) # TODO: implement\n",
    "print(\"2-of-2 musig: \", address_musig)"
   ]
  },
  {
   "cell_type": "markdown",
   "metadata": {},
   "source": [
    "#### Example 2.1.12: Create a transaction in the Bitcoin Core wallet sending an output to the segwit v1 addresses"
   ]
  },
  {
   "cell_type": "code",
   "execution_count": 36,
   "metadata": {},
   "outputs": [
    {
     "name": "stdout",
     "output_type": "stream",
     "text": [
      "TestWrapper is already running!\n",
      "\n",
      "Client version is /Satoshi:26.99.0(testnode0)/\n",
      "\n",
      "Balance: 5099.00000000\n",
      "\n",
      "Transaction 1aade991b4eca22e6dfe554e2469b827ec59335f1cdc7f7f762d6a9d244edd4b, output 0\n",
      "sent to bcrt1pcwzg56s49jmh9ztfy3xky33xuxpdadaydmf53aye9l88m9ya4dgs5fspq8\n",
      "\n"
     ]
    }
   ],
   "source": [
    "test = util.TestWrapper()\n",
    "test.setup()\n",
    "node = test.nodes[0]\n",
    "\n",
    "# Generate coins and create an output\n",
    "tx = node.generate_and_send_coins(address_musig)\n",
    "print(\"Transaction {}, output 0\\nsent to {}\\n\".format(tx.hash, address_musig))"
   ]
  },
  {
   "cell_type": "markdown",
   "metadata": {},
   "source": [
    "#### Example 2.1.13 : Construct CTransaction and populate fields"
   ]
  },
  {
   "cell_type": "code",
   "execution_count": 37,
   "metadata": {},
   "outputs": [
    {
     "name": "stdout",
     "output_type": "stream",
     "text": [
      "Spending transaction:\n",
      "CTransaction(nVersion=1 vin=[CTxIn(prevout=COutPoint(hash=1aade991b4eca22e6dfe554e2469b827ec59335f1cdc7f7f762d6a9d244edd4b n=0) scriptSig= nSequence=0)] vout=[CTxOut(nValue=0.50000000 scriptPubKey=0014d0a09702a77844a345cca56d5516825164e76b93)] wit=CTxWitness() nLockTime=0)\n"
     ]
    }
   ],
   "source": [
    "# Create a spending transaction\n",
    "spending_tx = test.create_spending_transaction(tx.hash)\n",
    "print(\"Spending transaction:\\n{}\".format(spending_tx))"
   ]
  },
  {
   "cell_type": "markdown",
   "metadata": {},
   "source": [
    "#### 2.1.14 _Programming Exercise:_ Create a valid BIP340 signature for the MuSig aggregate pubkey\n",
    "\n",
    "In this exercise, we create a signature for the aggregate pubkey, add it to the witness, and then test that the transaction is accepted by the mempool."
   ]
  },
  {
   "cell_type": "code",
   "execution_count": 38,
   "metadata": {},
   "outputs": [
    {
     "name": "stdout",
     "output_type": "stream",
     "text": [
      "Aggregate signature is 278844f05b89391389f109ef183d4dbad1062f766465adddc19aafe5b14727901f9b30fea7f17ab97399f5cc2b43fa0d47da0b98b2159b5d3d38a973d6e4bcb5\n",
      "\n",
      "Transaction weight: 396\n",
      "\n",
      "{'txid': '58d1d41cdca6148fa1c6c13d251dd87d2bfe2bcf270331296a5a4811359abf29', 'wtxid': 'a5699bf7b2d656f8d6466a4234a2cc71a3d223c5af7b52310069bc376ffad515', 'allowed': True, 'vsize': 99, 'fees': {'base': Decimal('0.50000000'), 'effective-feerate': Decimal('5.05050505'), 'effective-includes': ['a5699bf7b2d656f8d6466a4234a2cc71a3d223c5af7b52310069bc376ffad515']}}\n",
      "Success!\n"
     ]
    }
   ],
   "source": [
    "# Create sighash for ALL (0x00)\n",
    "sighash_musig = TaprootSignatureHash(spending_tx, [tx.vout[0]], SIGHASH_ALL_TAPROOT, input_index=0)\n",
    "\n",
    "# Generate individual nonces for participants and an aggregate nonce point\n",
    "# Remember to negate the individual nonces if necessary\n",
    "# Method: generate_schnorr_nonce()\n",
    "# Method: aggregate_schnorr_nonces(nonce_list)\n",
    "nonce1 = generate_schnorr_nonce() # TODO: implement\n",
    "nonce2 = generate_schnorr_nonce() # TODO: implement\n",
    "R_agg, negated = aggregate_schnorr_nonces([nonce1.get_pubkey(), nonce2.get_pubkey()]) # TODO: implement\n",
    "if negated:\n",
    "    nonce1.negate()\n",
    "    nonce2.negate()\n",
    "\n",
    "# Create an aggregate signature\n",
    "# Method: sign_musig(privkey, nonce, R_agg, agg_pubkey, sighash_musig)\n",
    "# Method: aggregate_musig_signatures(partial_signature_list, R_agg)\n",
    "s1 = sign_musig(privkey1_c, nonce1, R_agg, agg_pubkey, sighash_musig) # TODO: implement\n",
    "s2 = sign_musig(privkey2_c, nonce2, R_agg, agg_pubkey, sighash_musig) # TODO: implement\n",
    "sig_agg = aggregate_musig_signatures([s1, s2], R_agg) # TODO:implement\n",
    "print(\"Aggregate signature is {}\\n\".format(sig_agg.hex()))\n",
    "\n",
    "# Add witness to transaction\n",
    "spending_tx.wit.vtxinwit.append(CTxInWitness([sig_agg]))  # TODO: implement\n",
    "\n",
    "# Get transaction weight\n",
    "print(\"Transaction weight: {}\\n\".format(node.decoderawtransaction(spending_tx.serialize().hex())['weight']))\n",
    "\n",
    "# Test mempool acceptance\n",
    "assert node.test_transaction(spending_tx)\n",
    "print(\"Success!\")"
   ]
  },
  {
   "cell_type": "markdown",
   "metadata": {},
   "source": [
    "### Benefits of using segwit v1 MuSig over segwit v0 P2WSH\n",
    "\n",
    "You can see that the transaction weight of the transaction spending the v1 MuSig output is about 30% lower than the transaction spending the v0 P2WSH output. For larger n-of-n multisig, the weight savings is even larger. Since transaction fees are based on the transaction weight, these weight savings translate directly to fee savings.\n",
    "\n",
    "In addition, by using a MuSig aggregate key and signature, Alice does not reveal that she is using a multisignature scheme, which is good for her privacy and security."
   ]
  },
  {
   "cell_type": "markdown",
   "metadata": {},
   "source": [
    "#### Example 2.1.15: Shutdown the TestWrapper (and all bitcoind instances)"
   ]
  },
  {
   "cell_type": "code",
   "execution_count": 39,
   "metadata": {},
   "outputs": [
    {
     "name": "stdout",
     "output_type": "stream",
     "text": [
      "2024-06-01T15:52:22.496000Z TestFramework./var/folders/b_/p0cr2yhn6kn1kc2rrcr1564m0000gn/T/bitcoin_func_test_tr75jql0 (INFO): Stopping nodes\n",
      "2024-06-01T15:52:22.711000Z TestFramework./var/folders/b_/p0cr2yhn6kn1kc2rrcr1564m0000gn/T/bitcoin_func_test_tr75jql0 (INFO): Cleaning up /var/folders/b_/p0cr2yhn6kn1kc2rrcr1564m0000gn/T/bitcoin_func_test_tr75jql0 on exit\n",
      "2024-06-01T15:52:22.711000Z TestFramework./var/folders/b_/p0cr2yhn6kn1kc2rrcr1564m0000gn/T/bitcoin_func_test_tr75jql0 (INFO): Tests successful\n"
     ]
    }
   ],
   "source": [
    "test.shutdown()"
   ]
  },
  {
   "cell_type": "markdown",
   "metadata": {},
   "source": [
    "**Congratulations!** In this chapter, you have:\n",
    "\n",
    "- Learned how to create a segwit v1 output and derive its bech32m address.\n",
    "- Sent bitcoin to a segwit v1 address, and then constructed a transaction that spends the segwit v1 output back to the wallet using the key path.\n",
    "- Shown how using a segwit v1 MuSig output saves fees and improves privacy over using P2WSH multisig."
   ]
  }
 ],
 "metadata": {
  "kernelspec": {
   "display_name": "Python 3",
   "language": "python",
   "name": "python3"
  },
  "language_info": {
   "codemirror_mode": {
    "name": "ipython",
    "version": 3
   },
   "file_extension": ".py",
   "mimetype": "text/x-python",
   "name": "python",
   "nbconvert_exporter": "python",
   "pygments_lexer": "ipython3",
   "version": "3.10.4"
  }
 },
 "nbformat": 4,
 "nbformat_minor": 2
}
